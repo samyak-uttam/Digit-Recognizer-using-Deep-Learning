{
 "cells": [
  {
   "cell_type": "code",
   "execution_count": 1,
   "metadata": {},
   "outputs": [
    {
     "name": "stderr",
     "output_type": "stream",
     "text": [
      "Using TensorFlow backend.\n"
     ]
    }
   ],
   "source": [
    "import tensorflow as tf\n",
    "from tensorflow import keras\n",
    "import numpy as np\n",
    "import matplotlib.pyplot as plt\n",
    "from keras.datasets import mnist"
   ]
  },
  {
   "cell_type": "code",
   "execution_count": 2,
   "metadata": {},
   "outputs": [
    {
     "name": "stdout",
     "output_type": "stream",
     "text": [
      "2.1.0\n"
     ]
    }
   ],
   "source": [
    "print(tf.__version__)"
   ]
  },
  {
   "cell_type": "code",
   "execution_count": 3,
   "metadata": {},
   "outputs": [],
   "source": [
    "# load the train and test datasets\n",
    "(X_train, Y_train), (X_test, Y_test) = mnist.load_data()"
   ]
  },
  {
   "cell_type": "code",
   "execution_count": 4,
   "metadata": {},
   "outputs": [
    {
     "name": "stdout",
     "output_type": "stream",
     "text": [
      "X_train shape:(60000, 28, 28)\n",
      "Y_train shape:(60000, 1)\n",
      "X_test shape:(10000, 28, 28)\n",
      "Y_test shape:(10000, 1)\n"
     ]
    }
   ],
   "source": [
    "# Reshape the Y datasets\n",
    "Y_train = Y_train.reshape(X_train.shape[0], 1)\n",
    "Y_test = Y_test.reshape(X_test.shape[0], 1)\n",
    "\n",
    "# Explore the dataset\n",
    "print(\"X_train shape:\" + str(X_train.shape))\n",
    "print(\"Y_train shape:\" + str(Y_train.shape))\n",
    "print(\"X_test shape:\" + str(X_test.shape))\n",
    "print(\"Y_test shape:\" + str(Y_test.shape))"
   ]
  },
  {
   "cell_type": "code",
   "execution_count": 5,
   "metadata": {},
   "outputs": [
    {
     "data": {
      "text/plain": [
       "<matplotlib.image.AxesImage at 0x7fc536869908>"
      ]
     },
     "execution_count": 5,
     "metadata": {},
     "output_type": "execute_result"
    },
    {
     "data": {
      "image/png": "[encoded data removed]",
      "text/plain": [
       "<Figure size 432x288 with 1 Axes>"
      ]
     },
     "metadata": {
      "needs_background": "light"
     },
     "output_type": "display_data"
    }
   ],
   "source": [
    "# see any image of the dataset\n",
    "i = 0\n",
    "img = X_train[i, :]\n",
    "img = img.reshape(28, 28)\n",
    "plt.imshow(255-img, cmap='gray')"
   ]
  },
  {
   "cell_type": "code",
   "execution_count": 6,
   "metadata": {},
   "outputs": [],
   "source": [
    "# Standardize data to have feature values between 0 and 1.\n",
    "X_train = X_train/255.\n",
    "X_test = X_test/255."
   ]
  },
  {
   "cell_type": "markdown",
   "metadata": {},
   "source": [
    "### Build the model with Tensor Flow 2.0"
   ]
  },
  {
   "cell_type": "code",
   "execution_count": 7,
   "metadata": {},
   "outputs": [],
   "source": [
    "from keras.models import Sequential\n",
    "from keras.layers import Flatten, Dense"
   ]
  },
  {
   "cell_type": "code",
   "execution_count": 8,
   "metadata": {},
   "outputs": [],
   "source": [
    "# define the model\n",
    "model = Sequential()\n",
    "model.add(Flatten(input_shape = (28, 28)))\n",
    "model.add(Dense(35, activation = 'relu'))\n",
    "model.add(Dense(20, activation = 'relu'))\n",
    "model.add(Dense(10, activation = 'softmax'))"
   ]
  },
  {
   "cell_type": "code",
   "execution_count": 9,
   "metadata": {
    "scrolled": true
   },
   "outputs": [
    {
     "name": "stdout",
     "output_type": "stream",
     "text": [
      "Model: \"sequential_1\"\n",
      "_________________________________________________________________\n",
      "Layer (type)                 Output Shape              Param #   \n",
      "=================================================================\n",
      "flatten_1 (Flatten)          (None, 784)               0         \n",
      "_________________________________________________________________\n",
      "dense_1 (Dense)              (None, 35)                27475     \n",
      "_________________________________________________________________\n",
      "dense_2 (Dense)              (None, 20)                720       \n",
      "_________________________________________________________________\n",
      "dense_3 (Dense)              (None, 10)                210       \n",
      "=================================================================\n",
      "Total params: 28,405\n",
      "Trainable params: 28,405\n",
      "Non-trainable params: 0\n",
      "_________________________________________________________________\n"
     ]
    }
   ],
   "source": [
    "# summary of the model\n",
    "model.summary()"
   ]
  },
  {
   "cell_type": "code",
   "execution_count": 10,
   "metadata": {},
   "outputs": [],
   "source": [
    "# compile the model\n",
    "model.compile(loss = 'sparse_categorical_crossentropy', optimizer = 'adam', metrics = ['accuracy'])"
   ]
  },
  {
   "cell_type": "code",
   "execution_count": 11,
   "metadata": {
    "scrolled": true
   },
   "outputs": [
    {
     "name": "stdout",
     "output_type": "stream",
     "text": [
      "Train on 48000 samples, validate on 12000 samples\n",
      "Epoch 1/25\n",
      "48000/48000 [==============================] - 2s 39us/step - loss: 1.1733 - accuracy: 0.6563 - val_loss: 0.4673 - val_accuracy: 0.8788\n",
      "Epoch 2/25\n",
      "48000/48000 [==============================] - 1s 15us/step - loss: 0.3867 - accuracy: 0.8953 - val_loss: 0.3002 - val_accuracy: 0.9167\n",
      "Epoch 3/25\n",
      "48000/48000 [==============================] - 1s 14us/step - loss: 0.2900 - accuracy: 0.9179 - val_loss: 0.2525 - val_accuracy: 0.9298\n",
      "Epoch 4/25\n",
      "48000/48000 [==============================] - 1s 13us/step - loss: 0.2455 - accuracy: 0.9307 - val_loss: 0.2271 - val_accuracy: 0.9352\n",
      "Epoch 5/25\n",
      "48000/48000 [==============================] - 1s 14us/step - loss: 0.2172 - accuracy: 0.9377 - val_loss: 0.2073 - val_accuracy: 0.9407\n",
      "Epoch 6/25\n",
      "48000/48000 [==============================] - 1s 14us/step - loss: 0.1951 - accuracy: 0.9441 - val_loss: 0.1953 - val_accuracy: 0.9433\n",
      "Epoch 7/25\n",
      "48000/48000 [==============================] - 1s 13us/step - loss: 0.1805 - accuracy: 0.9476 - val_loss: 0.1816 - val_accuracy: 0.9479\n",
      "Epoch 8/25\n",
      "48000/48000 [==============================] - 1s 14us/step - loss: 0.1672 - accuracy: 0.9514 - val_loss: 0.1715 - val_accuracy: 0.9498\n",
      "Epoch 9/25\n",
      "48000/48000 [==============================] - 1s 17us/step - loss: 0.1550 - accuracy: 0.9549 - val_loss: 0.1669 - val_accuracy: 0.9517\n",
      "Epoch 10/25\n",
      "48000/48000 [==============================] - 1s 23us/step - loss: 0.1449 - accuracy: 0.9574 - val_loss: 0.1606 - val_accuracy: 0.9545\n",
      "Epoch 11/25\n",
      "48000/48000 [==============================] - 1s 17us/step - loss: 0.1372 - accuracy: 0.9595 - val_loss: 0.1560 - val_accuracy: 0.9570\n",
      "Epoch 12/25\n",
      "48000/48000 [==============================] - 1s 17us/step - loss: 0.1297 - accuracy: 0.9617 - val_loss: 0.1520 - val_accuracy: 0.9570\n",
      "Epoch 13/25\n",
      "48000/48000 [==============================] - 1s 14us/step - loss: 0.1234 - accuracy: 0.9632 - val_loss: 0.1460 - val_accuracy: 0.9592\n",
      "Epoch 14/25\n",
      "48000/48000 [==============================] - 1s 15us/step - loss: 0.1185 - accuracy: 0.9645 - val_loss: 0.1483 - val_accuracy: 0.9590\n",
      "Epoch 15/25\n",
      "48000/48000 [==============================] - 1s 14us/step - loss: 0.1126 - accuracy: 0.9664 - val_loss: 0.1433 - val_accuracy: 0.9589\n",
      "Epoch 16/25\n",
      "48000/48000 [==============================] - 1s 12us/step - loss: 0.1074 - accuracy: 0.9687 - val_loss: 0.1416 - val_accuracy: 0.9596\n",
      "Epoch 17/25\n",
      "48000/48000 [==============================] - 1s 16us/step - loss: 0.1030 - accuracy: 0.9693 - val_loss: 0.1378 - val_accuracy: 0.9595\n",
      "Epoch 18/25\n",
      "48000/48000 [==============================] - 1s 18us/step - loss: 0.0991 - accuracy: 0.9708 - val_loss: 0.1393 - val_accuracy: 0.9602\n",
      "Epoch 19/25\n",
      "48000/48000 [==============================] - 1s 14us/step - loss: 0.0944 - accuracy: 0.9722 - val_loss: 0.1334 - val_accuracy: 0.9614\n",
      "Epoch 20/25\n",
      "48000/48000 [==============================] - 1s 13us/step - loss: 0.0903 - accuracy: 0.9737 - val_loss: 0.1332 - val_accuracy: 0.9617\n",
      "Epoch 21/25\n",
      "48000/48000 [==============================] - 1s 17us/step - loss: 0.0867 - accuracy: 0.9746 - val_loss: 0.1333 - val_accuracy: 0.9616\n",
      "Epoch 22/25\n",
      "48000/48000 [==============================] - 1s 13us/step - loss: 0.0827 - accuracy: 0.9758 - val_loss: 0.1327 - val_accuracy: 0.9606\n",
      "Epoch 23/25\n",
      "48000/48000 [==============================] - 1s 15us/step - loss: 0.0790 - accuracy: 0.9768 - val_loss: 0.1326 - val_accuracy: 0.9618\n",
      "Epoch 24/25\n",
      "48000/48000 [==============================] - 1s 19us/step - loss: 0.0767 - accuracy: 0.9776 - val_loss: 0.1297 - val_accuracy: 0.9623\n",
      "Epoch 25/25\n",
      "48000/48000 [==============================] - 1s 17us/step - loss: 0.0727 - accuracy: 0.9789 - val_loss: 0.1318 - val_accuracy: 0.9640\n"
     ]
    }
   ],
   "source": [
    "# iterate on training data with mini batch size of 512 \n",
    "history = model.fit(X_train, Y_train, epochs = 25, batch_size = 512, validation_split = 0.2)"
   ]
  },
  {
   "cell_type": "code",
   "execution_count": 12,
   "metadata": {},
   "outputs": [
    {
     "data": {
      "image/png": "[encoded data removed]",
      "text/plain": [
       "<Figure size 432x288 with 1 Axes>"
      ]
     },
     "metadata": {
      "needs_background": "light"
     },
     "output_type": "display_data"
    },
    {
     "data": {
      "image/png": "[encoded data removed]",
      "text/plain": [
       "<Figure size 432x288 with 1 Axes>"
      ]
     },
     "metadata": {
      "needs_background": "light"
     },
     "output_type": "display_data"
    }
   ],
   "source": [
    "# plot training and validation accuracy values\n",
    "plt.plot(history.history['accuracy'])\n",
    "plt.plot(history.history['val_accuracy'])\n",
    "plt.title('Model accuracy')\n",
    "plt.xlabel('Epoch')\n",
    "plt.ylabel('Accuracy')\n",
    "plt.legend(['Train', 'Val'], loc = 'upper left')\n",
    "plt.show()\n",
    "\n",
    "# plot training and validation loss values\n",
    "plt.plot(history.history['loss'])\n",
    "plt.plot(history.history['val_loss'])\n",
    "plt.title('Model loss')\n",
    "plt.xlabel('Epoch')\n",
    "plt.ylabel('Loss')\n",
    "plt.legend(['Train', 'Val'], loc = 'upper left')\n",
    "plt.show()"
   ]
  },
  {
   "cell_type": "code",
   "execution_count": 13,
   "metadata": {},
   "outputs": [
    {
     "name": "stdout",
     "output_type": "stream",
     "text": [
      "60000/60000 [==============================] - 2s 32us/step\n",
      "10000/10000 [==============================] - 0s 39us/step\n",
      "Accuracy on train set is 97.675002%\n",
      "Accuracy on test set is 96.340001%\n"
     ]
    }
   ],
   "source": [
    "# find the accuracy on train and test set\n",
    "train_loss, train_acc = model.evaluate(X_train, Y_train)\n",
    "test_loss, test_acc = model.evaluate(X_test, Y_test)\n",
    "print(\"Accuracy on train set is %f\" %(train_acc * 100)  + \"%\")\n",
    "print(\"Accuracy on test set is %f\" %(test_acc * 100)  + \"%\")"
   ]
  },
  {
   "cell_type": "code",
   "execution_count": 14,
   "metadata": {},
   "outputs": [],
   "source": [
    "# get the predicted classes from the model\n",
    "Y_pred = model.predict_classes(X_test)"
   ]
  },
  {
   "cell_type": "code",
   "execution_count": 15,
   "metadata": {},
   "outputs": [
    {
     "name": "stdout",
     "output_type": "stream",
     "text": [
      "The model predicted it as: 7\n"
     ]
    },
    {
     "data": {
      "image/png": "[encoded data removed]",
      "text/plain": [
       "<Figure size 432x288 with 1 Axes>"
      ]
     },
     "metadata": {
      "needs_background": "light"
     },
     "output_type": "display_data"
    }
   ],
   "source": [
    "# check the predictions\n",
    "i = 0\n",
    "img = X_test[i, :]\n",
    "img = img.reshape(28, 28)\n",
    "plt.imshow(255-img, cmap='gray')\n",
    "\n",
    "print(\"The model predicted it as: %i\" %Y_pred[i])"
   ]
  },
  {
   "cell_type": "code",
   "execution_count": null,
   "metadata": {},
   "outputs": [],
   "source": []
  }
 ],
 "metadata": {
  "kernelspec": {
   "display_name": "Python 3",
   "language": "python",
   "name": "python3"
  },
  "language_info": {
   "codemirror_mode": {
    "name": "ipython",
    "version": 3
   },
   "file_extension": ".py",
   "mimetype": "text/x-python",
   "name": "python",
   "nbconvert_exporter": "python",
   "pygments_lexer": "ipython3",
   "version": "3.7.3"
  }
 },
 "nbformat": 4,
 "nbformat_minor": 4
}
