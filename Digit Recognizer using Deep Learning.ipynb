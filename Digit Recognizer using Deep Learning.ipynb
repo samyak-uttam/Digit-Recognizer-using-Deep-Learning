{
 "cells": [
  {
   "cell_type": "code",
   "execution_count": 1,
   "metadata": {},
   "outputs": [],
   "source": [
    "# import the packages\n",
    "import numpy as np\n",
    "import matplotlib.pyplot as plt\n",
    "from dnn_utils import *"
   ]
  },
  {
   "cell_type": "code",
   "execution_count": 2,
   "metadata": {},
   "outputs": [],
   "source": [
    "# image size: 28 * 28\n",
    "img_size = 28"
   ]
  },
  {
   "cell_type": "code",
   "execution_count": 3,
   "metadata": {},
   "outputs": [],
   "source": [
    "# get the training dataset\n",
    "X_train, Y_train, Ytr = load_train_data(img_size)"
   ]
  },
  {
   "cell_type": "code",
   "execution_count": 4,
   "metadata": {},
   "outputs": [],
   "source": [
    "# get the test dataset\n",
    "X_test, Y_test, Yte = load_test_data(img_size)"
   ]
  },
  {
   "cell_type": "code",
   "execution_count": 5,
   "metadata": {},
   "outputs": [
    {
     "name": "stdout",
     "output_type": "stream",
     "text": [
      "X_train shape:(60000, 784)\n",
      "Y_train shape:(60000, 10)\n",
      "X_test shape:(10000, 784)\n",
      "Y_test shape:(10000, 10)\n"
     ]
    }
   ],
   "source": [
    "# Explore the dataset\n",
    "print(\"X_train shape:\" + str(X_train.shape))\n",
    "print(\"Y_train shape:\" + str(Y_train.shape))\n",
    "print(\"X_test shape:\" + str(X_test.shape))\n",
    "print(\"Y_test shape:\" + str(Y_test.shape))"
   ]
  },
  {
   "cell_type": "code",
   "execution_count": 6,
   "metadata": {},
   "outputs": [
    {
     "data": {
      "text/plain": [
       "<matplotlib.image.AxesImage at 0x7fc6d6469978>"
      ]
     },
     "execution_count": 6,
     "metadata": {},
     "output_type": "execute_result"
    },
    {
     "data": {
      "image/png": "[encoded data removed]",
      "text/plain": [
       "<Figure size 432x288 with 1 Axes>"
      ]
     },
     "metadata": {
      "needs_background": "light"
     },
     "output_type": "display_data"
    }
   ],
   "source": [
    "# see any image of the dataset\n",
    "i = 0\n",
    "img = X_train[i, :]\n",
    "img = img.reshape(28, 28)\n",
    "plt.imshow(255-img, cmap='gray')"
   ]
  },
  {
   "cell_type": "code",
   "execution_count": 7,
   "metadata": {},
   "outputs": [
    {
     "name": "stdout",
     "output_type": "stream",
     "text": [
      "X_train shape:(784, 60000)\n",
      "Y_train shape:(10, 60000)\n",
      "X_test shape:(784, 10000)\n",
      "Y_test shape:(10, 10000)\n"
     ]
    }
   ],
   "source": [
    "# Reshape the dataset\n",
    "X_train = X_train.T\n",
    "X_test = X_test.T\n",
    "Y_train = Y_train.T\n",
    "Y_test = Y_test.T\n",
    "\n",
    "# Standardize data to have feature values between 0 and 1.\n",
    "X_train = X_train/255.\n",
    "X_test = X_test/255.\n",
    "print(\"X_train shape:\" + str(X_train.shape))\n",
    "print(\"Y_train shape:\" + str(Y_train.shape))\n",
    "print(\"X_test shape:\" + str(X_test.shape))\n",
    "print(\"Y_test shape:\" + str(Y_test.shape))"
   ]
  },
  {
   "cell_type": "code",
   "execution_count": 8,
   "metadata": {},
   "outputs": [],
   "source": [
    "# define the layers of the model\n",
    "layer_dims = [784, 35, 20, 10] # 3-layer model"
   ]
  },
  {
   "cell_type": "code",
   "execution_count": 9,
   "metadata": {},
   "outputs": [],
   "source": [
    "# define the model\n",
    "# the model uses mini batch gradient descent and adam optimizer\n",
    "def model(X, Y, layers_dims, learning_rate = 0.0007, mini_batch_size = 64, beta1 = 0.9,\n",
    "          beta2 = 0.999, epsilon = 1e-8, lambd = 0.6, num_epochs = 2000, print_cost = True):\n",
    "    \n",
    "    costs = []\n",
    "    t = 0\n",
    "    m = X.shape[1]\n",
    "    \n",
    "    # Initialize parameters\n",
    "    parameters = initialize_parameters(layers_dims)\n",
    "    v, s = initialize_adam(parameters)\n",
    "    \n",
    "    for i in range(num_epochs):\n",
    "        \n",
    "        # Define the random minibatches.\n",
    "        minibatches = random_mini_batches(X, Y, mini_batch_size)\n",
    "        cost_total = 0\n",
    "        \n",
    "        for minibatch in minibatches:\n",
    "            \n",
    "            # Select a minibatch\n",
    "            (minibatch_X, minibatch_Y) = minibatch\n",
    "            \n",
    "            # Forward propagation\n",
    "            AL, caches = L_model_forward(minibatch_X, parameters)\n",
    "\n",
    "            # Compute cost\n",
    "            cost_total += compute_cost(AL, minibatch_Y, caches, lambd)\n",
    "\n",
    "            # Backward propagation\n",
    "            grads = L_model_backward(AL, minibatch_Y, caches, lambd)\n",
    "\n",
    "            # Update parameters\n",
    "            t = t + 1\n",
    "            parameters, v, s = update_parameters_with_adam(parameters, grads, v, s,\n",
    "                                                     t, learning_rate, beta1, beta2, epsilon)\n",
    "        cost_avg = cost_total\n",
    "        \n",
    "        if print_cost and i % 10 == 0:\n",
    "            print(\"Cost after iteration %i: %f\" %(i, cost_avg))\n",
    "            costs.append(cost_avg)\n",
    "            \n",
    "    #plot the cost\n",
    "    plt.plot(np.squeeze(costs))\n",
    "    plt.ylabel('cost')\n",
    "    plt.xlabel('iterations (per hundreds)')\n",
    "    plt.title(\"Learning rate =\" + str(learning_rate))\n",
    "    plt.show()\n",
    "    \n",
    "    return parameters"
   ]
  },
  {
   "cell_type": "code",
   "execution_count": 10,
   "metadata": {
    "scrolled": true
   },
   "outputs": [
    {
     "name": "stdout",
     "output_type": "stream",
     "text": [
      "Cost after iteration 0: 150.425170\n",
      "Cost after iteration 10: 29.710325\n",
      "Cost after iteration 20: 25.183356\n",
      "Cost after iteration 30: 22.846802\n",
      "Cost after iteration 40: 21.226881\n",
      "Cost after iteration 50: 20.203174\n",
      "Cost after iteration 60: 19.379872\n",
      "Cost after iteration 70: 18.958511\n",
      "Cost after iteration 80: 18.512340\n",
      "Cost after iteration 90: 18.348754\n",
      "Cost after iteration 100: 18.129485\n",
      "Cost after iteration 110: 18.062725\n",
      "Cost after iteration 120: 17.914983\n",
      "Cost after iteration 130: 17.816283\n",
      "Cost after iteration 140: 17.673222\n"
     ]
    },
    {
     "data": {
      "image/png": "[encoded data removed]",
      "text/plain": [
       "<Figure size 432x288 with 1 Axes>"
      ]
     },
     "metadata": {
      "needs_background": "light"
     },
     "output_type": "display_data"
    }
   ],
   "source": [
    "# train the model with the dataset values\n",
    "parmeters = model(X_train, Y_train, layer_dims, mini_batch_size = 512, num_epochs = 150)"
   ]
  },
  {
   "cell_type": "code",
   "execution_count": 11,
   "metadata": {},
   "outputs": [
    {
     "name": "stdout",
     "output_type": "stream",
     "text": [
      "Accuracy: 98.665%\n"
     ]
    }
   ],
   "source": [
    "# finding training set accuracy\n",
    "pred_train = predict(X_train, parmeters)\n",
    "ans = np.where(Ytr.T == pred_train)[0].size\n",
    "    \n",
    "print(\"Accuracy: \"  + str(ans / X_train.shape[1] * 100) + \"%\")"
   ]
  },
  {
   "cell_type": "code",
   "execution_count": 12,
   "metadata": {},
   "outputs": [
    {
     "name": "stdout",
     "output_type": "stream",
     "text": [
      "Accuracy: 97.33000000000001%\n"
     ]
    }
   ],
   "source": [
    "# get test set predictions\n",
    "pred_test = predict(X_test, parmeters)\n",
    "ans = np.where(Yte.T == pred_test)[0].size\n",
    "    \n",
    "print(\"Accuracy: \"  + str(ans / X_test.shape[1] * 100) + \"%\")"
   ]
  },
  {
   "cell_type": "code",
   "execution_count": 13,
   "metadata": {},
   "outputs": [
    {
     "name": "stdout",
     "output_type": "stream",
     "text": [
      "The model predicted it as: 7\n"
     ]
    },
    {
     "data": {
      "image/png": "[encoded data removed]",
      "text/plain": [
       "<Figure size 432x288 with 1 Axes>"
      ]
     },
     "metadata": {
      "needs_background": "light"
     },
     "output_type": "display_data"
    }
   ],
   "source": [
    "# check the predictions\n",
    "i = 0\n",
    "img = X_test[:, i]\n",
    "img = img.reshape(28, 28)\n",
    "plt.imshow(255-img, cmap='gray')\n",
    "\n",
    "print(\"The model predicted it as: %i\" %pred_test[:,i])"
   ]
  },
  {
   "cell_type": "code",
   "execution_count": null,
   "metadata": {},
   "outputs": [],
   "source": []
  }
 ],
 "metadata": {
  "kernelspec": {
   "display_name": "Python 3",
   "language": "python",
   "name": "python3"
  },
  "language_info": {
   "codemirror_mode": {
    "name": "ipython",
    "version": 3
   },
   "file_extension": ".py",
   "mimetype": "text/x-python",
   "name": "python",
   "nbconvert_exporter": "python",
   "pygments_lexer": "ipython3",
   "version": "3.7.3"
  }
 },
 "nbformat": 4,
 "nbformat_minor": 4
}
