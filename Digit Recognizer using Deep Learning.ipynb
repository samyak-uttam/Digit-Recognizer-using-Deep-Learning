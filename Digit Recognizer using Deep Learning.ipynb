{
 "cells": [
  {
   "cell_type": "code",
   "execution_count": 10,
   "metadata": {},
   "outputs": [],
   "source": [
    "# import the packages\n",
    "import numpy as np\n",
    "import pandas as pd\n",
    "import matplotlib.pyplot as plt\n",
    "from dnn_utils import *"
   ]
  },
  {
   "cell_type": "code",
   "execution_count": 11,
   "metadata": {},
   "outputs": [],
   "source": [
    "# get the dataset\n",
    "try:\n",
    "    train_data = pd.read_csv(\"./dataset/train.csv\").values\n",
    "    test_data = pd.read_csv(\"./dataset/test.csv\").values\n",
    "except IOError:\n",
    "    raise Exception(\"File does not exist\")\n",
    "\n",
    "X_train, Y_temp, X_test = train_data[:, 1:], train_data[:, 0], test_data[:]\n",
    "Y_train = np.zeros((X_train.shape[0], 10))\n",
    "Y_temp = Y_temp.reshape(X_train.shape[0], 1)\n",
    "\n",
    "for i in range(X_train.shape[0]):\n",
    "    Y_train[i][Y_temp[i]-1] = 1"
   ]
  },
  {
   "cell_type": "code",
   "execution_count": 12,
   "metadata": {},
   "outputs": [
    {
     "name": "stdout",
     "output_type": "stream",
     "text": [
      "X_train shape:(42000, 784)\n",
      "Y_train shape:(42000, 10)\n",
      "X_test shape:(28000, 784)\n"
     ]
    }
   ],
   "source": [
    "# Explore the dataset\n",
    "print(\"X_train shape:\" + str(X_train.shape))\n",
    "print(\"Y_train shape:\" + str(Y_train.shape))\n",
    "print(\"X_test shape:\" + str(X_test.shape))"
   ]
  },
  {
   "cell_type": "code",
   "execution_count": 13,
   "metadata": {},
   "outputs": [
    {
     "data": {
      "text/plain": [
       "<matplotlib.image.AxesImage at 0x7f912a7f2eb8>"
      ]
     },
     "execution_count": 13,
     "metadata": {},
     "output_type": "execute_result"
    },
    {
     "data": {
      "image/png": "[encoded data removed]",
      "text/plain": [
       "<Figure size 432x288 with 1 Axes>"
      ]
     },
     "metadata": {
      "needs_background": "light"
     },
     "output_type": "display_data"
    }
   ],
   "source": [
    "# see any image of the dataset\n",
    "i = 1\n",
    "img = X_train[i, :]\n",
    "img = img.reshape(28, 28)\n",
    "plt.imshow(255-img, cmap='gray')"
   ]
  },
  {
   "cell_type": "code",
   "execution_count": 14,
   "metadata": {},
   "outputs": [
    {
     "name": "stdout",
     "output_type": "stream",
     "text": [
      "X_train shape:(784, 42000)\n",
      "Y_train shape:(10, 42000)\n",
      "X_test shape:(784, 28000)\n"
     ]
    }
   ],
   "source": [
    "# Reshape the dataset\n",
    "X_train = X_train.T\n",
    "X_test = X_test.T\n",
    "Y_train = Y_train.T\n",
    "\n",
    "# Standardize data to have feature values between 0 and 1.\n",
    "X_train = X_train/255.\n",
    "X_test = X_test/255.\n",
    "print(\"X_train shape:\" + str(X_train.shape))\n",
    "print(\"Y_train shape:\" + str(Y_train.shape))\n",
    "print(\"X_test shape:\" + str(X_test.shape))"
   ]
  },
  {
   "cell_type": "code",
   "execution_count": 15,
   "metadata": {},
   "outputs": [],
   "source": [
    "# define the layers of the model\n",
    "layer_dims = [784, 40, 20, 10] # 3-layer model"
   ]
  },
  {
   "cell_type": "code",
   "execution_count": 16,
   "metadata": {},
   "outputs": [],
   "source": [
    "# define the model\n",
    "def model(X, Y, layers_dims, learning_rate = 0.0075, num_iterations = 2000, print_cost = False):\n",
    "    costs = []\n",
    "    \n",
    "    parameters = initialize_parameters(layers_dims)\n",
    "    \n",
    "    for i in range(num_iterations):\n",
    "        \n",
    "        # Forward propagation\n",
    "        AL, caches = L_model_forward(X, parameters)\n",
    "        \n",
    "        # Compute cost\n",
    "        cost = compute_cost(AL, Y)\n",
    "        \n",
    "        # Backward propagation\n",
    "        grads = L_model_backward(AL, Y, caches)\n",
    "        \n",
    "        # Update parameters\n",
    "        parameters = update_parameters(parameters, grads, learning_rate)\n",
    "        \n",
    "        if print_cost and i % 100 == 0:\n",
    "            print(\"Cost after iteration %i: %f\" %(i, cost))\n",
    "            costs.append(cost)\n",
    "            \n",
    "    #plot the cost\n",
    "    plt.plot(np.squeeze(costs))\n",
    "    plt.ylabel('cost')\n",
    "    plt.xlabel('iterations (per hundreds)')\n",
    "    plt.title(\"Learning rate =\" + str(learning_rate))\n",
    "    plt.show()\n",
    "    \n",
    "    return parameters"
   ]
  },
  {
   "cell_type": "code",
   "execution_count": 17,
   "metadata": {
    "scrolled": true
   },
   "outputs": [
    {
     "name": "stdout",
     "output_type": "stream",
     "text": [
      "Cost after iteration 0: 2.318552\n",
      "Cost after iteration 100: 2.081278\n",
      "Cost after iteration 200: 1.833922\n",
      "Cost after iteration 300: 1.578168\n",
      "Cost after iteration 400: 1.329036\n",
      "Cost after iteration 500: 1.106238\n",
      "Cost after iteration 600: 0.930757\n",
      "Cost after iteration 700: 0.803852\n",
      "Cost after iteration 800: 0.713562\n",
      "Cost after iteration 900: 0.647719\n",
      "Cost after iteration 1000: 0.597936\n",
      "Cost after iteration 1100: 0.559043\n",
      "Cost after iteration 1200: 0.527826\n",
      "Cost after iteration 1300: 0.502250\n",
      "Cost after iteration 1400: 0.480930\n",
      "Cost after iteration 1500: 0.462901\n",
      "Cost after iteration 1600: 0.447455\n",
      "Cost after iteration 1700: 0.434076\n",
      "Cost after iteration 1800: 0.422354\n",
      "Cost after iteration 1900: 0.411987\n"
     ]
    },
    {
     "data": {
      "image/png": "[encoded data removed]",
      "text/plain": [
       "<Figure size 432x288 with 1 Axes>"
      ]
     },
     "metadata": {
      "needs_background": "light"
     },
     "output_type": "display_data"
    }
   ],
   "source": [
    "# train the model with the dataset values\n",
    "parmeters = model(X_train, Y_train, layer_dims, num_iterations = 2000, print_cost = True)"
   ]
  },
  {
   "cell_type": "code",
   "execution_count": 18,
   "metadata": {},
   "outputs": [
    {
     "name": "stdout",
     "output_type": "stream",
     "text": [
      "Accuracy: 0.8901190476190476\n"
     ]
    }
   ],
   "source": [
    "# finding training set accuracy\n",
    "pred_train = predict(X_train, parmeters)\n",
    "ans = np.where(Y_temp.T == pred_train)[0].size\n",
    "    \n",
    "print(\"Accuracy: \"  + str(ans / X_train.shape[1]))"
   ]
  },
  {
   "cell_type": "code",
   "execution_count": 19,
   "metadata": {},
   "outputs": [],
   "source": [
    "# get test set predictions\n",
    "pred_test = predict(X_test, parmeters)"
   ]
  },
  {
   "cell_type": "code",
   "execution_count": 41,
   "metadata": {},
   "outputs": [
    {
     "name": "stdout",
     "output_type": "stream",
     "text": [
      "The model predicted it as: 2\n"
     ]
    },
    {
     "data": {
      "image/png": "[encoded data removed]",
      "text/plain": [
       "<Figure size 432x288 with 1 Axes>"
      ]
     },
     "metadata": {
      "needs_background": "light"
     },
     "output_type": "display_data"
    }
   ],
   "source": [
    "# check the predictions\n",
    "i = 0\n",
    "img = X_test[:, i]\n",
    "img = img.reshape(28, 28)\n",
    "plt.imshow(255-img, cmap='gray')\n",
    "\n",
    "print(\"The model predicted it as: %i\" %pred_test[:,i])"
   ]
  },
  {
   "cell_type": "code",
   "execution_count": null,
   "metadata": {},
   "outputs": [],
   "source": []
  }
 ],
 "metadata": {
  "kernelspec": {
   "display_name": "Python 3",
   "language": "python",
   "name": "python3"
  },
  "language_info": {
   "codemirror_mode": {
    "name": "ipython",
    "version": 3
   },
   "file_extension": ".py",
   "mimetype": "text/x-python",
   "name": "python",
   "nbconvert_exporter": "python",
   "pygments_lexer": "ipython3",
   "version": "3.7.3"
  }
 },
 "nbformat": 4,
 "nbformat_minor": 4
}
