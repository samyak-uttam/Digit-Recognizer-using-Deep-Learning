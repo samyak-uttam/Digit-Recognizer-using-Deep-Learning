{
 "cells": [
  {
   "cell_type": "code",
   "execution_count": 201,
   "metadata": {},
   "outputs": [],
   "source": [
    "import tensorflow as tf\n",
    "from tensorflow import keras\n",
    "import numpy as np\n",
    "import matplotlib.pyplot as plt\n",
    "from keras.datasets import mnist"
   ]
  },
  {
   "cell_type": "code",
   "execution_count": 202,
   "metadata": {},
   "outputs": [
    {
     "name": "stdout",
     "output_type": "stream",
     "text": [
      "2.1.0\n"
     ]
    }
   ],
   "source": [
    "print(tf.__version__)"
   ]
  },
  {
   "cell_type": "code",
   "execution_count": 203,
   "metadata": {},
   "outputs": [],
   "source": [
    "# load the train and test datasets\n",
    "(X_train, Y_train), (X_test, Y_test) = mnist.load_data()"
   ]
  },
  {
   "cell_type": "code",
   "execution_count": 204,
   "metadata": {},
   "outputs": [
    {
     "name": "stdout",
     "output_type": "stream",
     "text": [
      "X_train shape:(60000, 28, 28)\n",
      "Y_train shape:(60000, 1)\n",
      "X_test shape:(10000, 28, 28)\n",
      "Y_test shape:(10000, 1)\n"
     ]
    }
   ],
   "source": [
    "# Reshape the Y datasets\n",
    "Y_train = Y_train.reshape(X_train.shape[0], 1)\n",
    "Y_test = Y_test.reshape(X_test.shape[0], 1)\n",
    "\n",
    "# Explore the dataset\n",
    "print(\"X_train shape:\" + str(X_train.shape))\n",
    "print(\"Y_train shape:\" + str(Y_train.shape))\n",
    "print(\"X_test shape:\" + str(X_test.shape))\n",
    "print(\"Y_test shape:\" + str(Y_test.shape))"
   ]
  },
  {
   "cell_type": "code",
   "execution_count": 205,
   "metadata": {},
   "outputs": [
    {
     "data": {
      "text/plain": [
       "<matplotlib.image.AxesImage at 0x7f7434bc3978>"
      ]
     },
     "execution_count": 205,
     "metadata": {},
     "output_type": "execute_result"
    },
    {
     "data": {
      "image/png": "[encoded data removed]",
      "text/plain": [
       "<Figure size 432x288 with 1 Axes>"
      ]
     },
     "metadata": {
      "needs_background": "light"
     },
     "output_type": "display_data"
    }
   ],
   "source": [
    "# see any image of the dataset\n",
    "i = 0\n",
    "img = X_train[i, :]\n",
    "img = img.reshape(28, 28)\n",
    "plt.imshow(255-img, cmap='gray')"
   ]
  },
  {
   "cell_type": "code",
   "execution_count": 206,
   "metadata": {},
   "outputs": [],
   "source": [
    "# Standardize data to have feature values between 0 and 1.\n",
    "X_train = X_train/255.\n",
    "X_test = X_test/255."
   ]
  },
  {
   "cell_type": "markdown",
   "metadata": {},
   "source": [
    "### Build the model with Tensor Flow 2.0"
   ]
  },
  {
   "cell_type": "code",
   "execution_count": 207,
   "metadata": {},
   "outputs": [],
   "source": [
    "from keras.models import Sequential\n",
    "from keras.layers import Flatten, Dense"
   ]
  },
  {
   "cell_type": "code",
   "execution_count": 208,
   "metadata": {},
   "outputs": [],
   "source": [
    "# define the model\n",
    "model = Sequential()\n",
    "model.add(Flatten(input_shape = (28, 28)))\n",
    "model.add(Dense(35, activation = 'relu'))\n",
    "model.add(Dense(20, activation = 'relu'))\n",
    "model.add(Dense(10, activation = 'softmax'))"
   ]
  },
  {
   "cell_type": "code",
   "execution_count": 209,
   "metadata": {
    "scrolled": true
   },
   "outputs": [
    {
     "name": "stdout",
     "output_type": "stream",
     "text": [
      "Model: \"sequential_10\"\n",
      "_________________________________________________________________\n",
      "Layer (type)                 Output Shape              Param #   \n",
      "=================================================================\n",
      "flatten_10 (Flatten)         (None, 784)               0         \n",
      "_________________________________________________________________\n",
      "dense_28 (Dense)             (None, 35)                27475     \n",
      "_________________________________________________________________\n",
      "dense_29 (Dense)             (None, 20)                720       \n",
      "_________________________________________________________________\n",
      "dense_30 (Dense)             (None, 10)                210       \n",
      "=================================================================\n",
      "Total params: 28,405\n",
      "Trainable params: 28,405\n",
      "Non-trainable params: 0\n",
      "_________________________________________________________________\n"
     ]
    }
   ],
   "source": [
    "# summary of the model\n",
    "model.summary()"
   ]
  },
  {
   "cell_type": "code",
   "execution_count": 210,
   "metadata": {},
   "outputs": [],
   "source": [
    "# compile the model\n",
    "model.compile(loss = 'sparse_categorical_crossentropy', optimizer = 'adam', metrics = ['accuracy'])"
   ]
  },
  {
   "cell_type": "code",
   "execution_count": 211,
   "metadata": {
    "scrolled": true
   },
   "outputs": [
    {
     "name": "stdout",
     "output_type": "stream",
     "text": [
      "Train on 48000 samples, validate on 12000 samples\n",
      "Epoch 1/40\n",
      "48000/48000 [==============================] - 1s 14us/step - loss: 1.0136 - accuracy: 0.7075 - val_loss: 0.3788 - val_accuracy: 0.8966\n",
      "Epoch 2/40\n",
      "48000/48000 [==============================] - 0s 10us/step - loss: 0.3343 - accuracy: 0.9074 - val_loss: 0.2722 - val_accuracy: 0.9227\n",
      "Epoch 3/40\n",
      "48000/48000 [==============================] - 1s 11us/step - loss: 0.2626 - accuracy: 0.9264 - val_loss: 0.2298 - val_accuracy: 0.9355\n",
      "Epoch 4/40\n",
      "48000/48000 [==============================] - 0s 10us/step - loss: 0.2242 - accuracy: 0.9365 - val_loss: 0.2034 - val_accuracy: 0.9444\n",
      "Epoch 5/40\n",
      "48000/48000 [==============================] - 1s 11us/step - loss: 0.1965 - accuracy: 0.9441 - val_loss: 0.1887 - val_accuracy: 0.9472\n",
      "Epoch 6/40\n",
      "48000/48000 [==============================] - 0s 10us/step - loss: 0.1791 - accuracy: 0.9488 - val_loss: 0.1785 - val_accuracy: 0.9486\n",
      "Epoch 7/40\n",
      "48000/48000 [==============================] - 1s 11us/step - loss: 0.1636 - accuracy: 0.9535 - val_loss: 0.1718 - val_accuracy: 0.9495\n",
      "Epoch 8/40\n",
      "48000/48000 [==============================] - 0s 10us/step - loss: 0.1515 - accuracy: 0.9563 - val_loss: 0.1638 - val_accuracy: 0.9517\n",
      "Epoch 9/40\n",
      "48000/48000 [==============================] - 1s 11us/step - loss: 0.1423 - accuracy: 0.9592 - val_loss: 0.1572 - val_accuracy: 0.9539\n",
      "Epoch 10/40\n",
      "48000/48000 [==============================] - 0s 10us/step - loss: 0.1343 - accuracy: 0.9614 - val_loss: 0.1549 - val_accuracy: 0.9551\n",
      "Epoch 11/40\n",
      "48000/48000 [==============================] - 1s 11us/step - loss: 0.1254 - accuracy: 0.9636 - val_loss: 0.1518 - val_accuracy: 0.9568\n",
      "Epoch 12/40\n",
      "48000/48000 [==============================] - 0s 10us/step - loss: 0.1194 - accuracy: 0.9654 - val_loss: 0.1447 - val_accuracy: 0.9572\n",
      "Epoch 13/40\n",
      "48000/48000 [==============================] - 1s 11us/step - loss: 0.1145 - accuracy: 0.9674 - val_loss: 0.1421 - val_accuracy: 0.9577\n",
      "Epoch 14/40\n",
      "48000/48000 [==============================] - 0s 10us/step - loss: 0.1079 - accuracy: 0.9689 - val_loss: 0.1416 - val_accuracy: 0.9578\n",
      "Epoch 15/40\n",
      "48000/48000 [==============================] - 1s 11us/step - loss: 0.1026 - accuracy: 0.9701 - val_loss: 0.1380 - val_accuracy: 0.9591\n",
      "Epoch 16/40\n",
      "48000/48000 [==============================] - 0s 10us/step - loss: 0.0985 - accuracy: 0.9721 - val_loss: 0.1425 - val_accuracy: 0.9577\n",
      "Epoch 17/40\n",
      "48000/48000 [==============================] - 1s 10us/step - loss: 0.0951 - accuracy: 0.9726 - val_loss: 0.1383 - val_accuracy: 0.9605\n",
      "Epoch 18/40\n",
      "48000/48000 [==============================] - 1s 11us/step - loss: 0.0899 - accuracy: 0.9741 - val_loss: 0.1336 - val_accuracy: 0.9618\n",
      "Epoch 19/40\n",
      "48000/48000 [==============================] - 1s 11us/step - loss: 0.0865 - accuracy: 0.9752 - val_loss: 0.1319 - val_accuracy: 0.9622\n",
      "Epoch 20/40\n",
      "48000/48000 [==============================] - 0s 10us/step - loss: 0.0840 - accuracy: 0.9761 - val_loss: 0.1297 - val_accuracy: 0.9620\n",
      "Epoch 21/40\n",
      "48000/48000 [==============================] - 1s 10us/step - loss: 0.0798 - accuracy: 0.9772 - val_loss: 0.1301 - val_accuracy: 0.9620\n",
      "Epoch 22/40\n",
      "48000/48000 [==============================] - 0s 10us/step - loss: 0.0761 - accuracy: 0.9785 - val_loss: 0.1316 - val_accuracy: 0.9629\n",
      "Epoch 23/40\n",
      "48000/48000 [==============================] - 1s 11us/step - loss: 0.0730 - accuracy: 0.9795 - val_loss: 0.1305 - val_accuracy: 0.9631\n",
      "Epoch 24/40\n",
      "48000/48000 [==============================] - 1s 11us/step - loss: 0.0706 - accuracy: 0.9801 - val_loss: 0.1271 - val_accuracy: 0.9651\n",
      "Epoch 25/40\n",
      "48000/48000 [==============================] - 1s 11us/step - loss: 0.0673 - accuracy: 0.9809 - val_loss: 0.1272 - val_accuracy: 0.9646\n",
      "Epoch 26/40\n",
      "48000/48000 [==============================] - 0s 10us/step - loss: 0.0658 - accuracy: 0.9816 - val_loss: 0.1289 - val_accuracy: 0.9639\n",
      "Epoch 27/40\n",
      "48000/48000 [==============================] - 1s 11us/step - loss: 0.0628 - accuracy: 0.9826 - val_loss: 0.1273 - val_accuracy: 0.9648\n",
      "Epoch 28/40\n",
      "48000/48000 [==============================] - 0s 10us/step - loss: 0.0613 - accuracy: 0.9826 - val_loss: 0.1244 - val_accuracy: 0.9641\n",
      "Epoch 29/40\n",
      "48000/48000 [==============================] - 1s 11us/step - loss: 0.0588 - accuracy: 0.9836 - val_loss: 0.1304 - val_accuracy: 0.9647\n",
      "Epoch 30/40\n",
      "48000/48000 [==============================] - 0s 10us/step - loss: 0.0571 - accuracy: 0.9842 - val_loss: 0.1275 - val_accuracy: 0.9645\n",
      "Epoch 31/40\n",
      "48000/48000 [==============================] - 1s 11us/step - loss: 0.0552 - accuracy: 0.9847 - val_loss: 0.1264 - val_accuracy: 0.9649\n",
      "Epoch 32/40\n",
      "48000/48000 [==============================] - 1s 10us/step - loss: 0.0534 - accuracy: 0.9847 - val_loss: 0.1270 - val_accuracy: 0.9647\n",
      "Epoch 33/40\n",
      "48000/48000 [==============================] - 1s 11us/step - loss: 0.0510 - accuracy: 0.9858 - val_loss: 0.1252 - val_accuracy: 0.9654\n",
      "Epoch 34/40\n",
      "48000/48000 [==============================] - 1s 10us/step - loss: 0.0498 - accuracy: 0.9860 - val_loss: 0.1258 - val_accuracy: 0.9672\n",
      "Epoch 35/40\n",
      "48000/48000 [==============================] - 1s 11us/step - loss: 0.0477 - accuracy: 0.9867 - val_loss: 0.1298 - val_accuracy: 0.9656\n",
      "Epoch 36/40\n",
      "48000/48000 [==============================] - 1s 11us/step - loss: 0.0470 - accuracy: 0.9871 - val_loss: 0.1320 - val_accuracy: 0.9650\n",
      "Epoch 37/40\n",
      "48000/48000 [==============================] - 0s 10us/step - loss: 0.0452 - accuracy: 0.9872 - val_loss: 0.1289 - val_accuracy: 0.9653\n",
      "Epoch 38/40\n",
      "48000/48000 [==============================] - 1s 11us/step - loss: 0.0453 - accuracy: 0.9870 - val_loss: 0.1317 - val_accuracy: 0.9655\n",
      "Epoch 39/40\n",
      "48000/48000 [==============================] - 1s 11us/step - loss: 0.0418 - accuracy: 0.9888 - val_loss: 0.1268 - val_accuracy: 0.9668\n",
      "Epoch 40/40\n",
      "48000/48000 [==============================] - 1s 11us/step - loss: 0.0404 - accuracy: 0.9890 - val_loss: 0.1302 - val_accuracy: 0.9668\n"
     ]
    }
   ],
   "source": [
    "# iterate on training data with mini batch size of 512 \n",
    "history = model.fit(X_train, Y_train, epochs = 25, batch_size = 512, validation_split = 0.2)"
   ]
  },
  {
   "cell_type": "code",
   "execution_count": 212,
   "metadata": {},
   "outputs": [
    {
     "data": {
      "image/png": "[encoded data removed]",
      "text/plain": [
       "<Figure size 432x288 with 1 Axes>"
      ]
     },
     "metadata": {
      "needs_background": "light"
     },
     "output_type": "display_data"
    },
    {
     "data": {
      "image/png": "[encoded data removed]",
      "text/plain": [
       "<Figure size 432x288 with 1 Axes>"
      ]
     },
     "metadata": {
      "needs_background": "light"
     },
     "output_type": "display_data"
    }
   ],
   "source": [
    "# plot training and validation accuracy values\n",
    "plt.plot(history.history['accuracy'])\n",
    "plt.plot(history.history['val_accuracy'])\n",
    "plt.title('Model accuracy')\n",
    "plt.xlabel('Epoch')\n",
    "plt.ylabel('Accuracy')\n",
    "plt.legend(['Train', 'Val'], loc = 'upper left')\n",
    "plt.show()\n",
    "\n",
    "# plot training and validation loss values\n",
    "plt.plot(history.history['loss'])\n",
    "plt.plot(history.history['val_loss'])\n",
    "plt.title('Model loss')\n",
    "plt.xlabel('Epoch')\n",
    "plt.ylabel('Loss')\n",
    "plt.legend(['Train', 'Val'], loc = 'upper left')\n",
    "plt.show()"
   ]
  },
  {
   "cell_type": "code",
   "execution_count": 213,
   "metadata": {},
   "outputs": [
    {
     "name": "stdout",
     "output_type": "stream",
     "text": [
      "60000/60000 [==============================] - 1s 23us/step\n",
      "10000/10000 [==============================] - 0s 34us/step\n",
      "Accuracy on train set is 98.593330%\n",
      "Accuracy on test set is 96.759999%\n"
     ]
    }
   ],
   "source": [
    "# find the accuracy on train and test set\n",
    "train_loss, train_acc = model.evaluate(X_train, Y_train)\n",
    "test_loss, test_acc = model.evaluate(X_test, Y_test)\n",
    "print(\"Accuracy on train set is %f\" %(train_acc * 100)  + \"%\")\n",
    "print(\"Accuracy on test set is %f\" %(test_acc * 100)  + \"%\")"
   ]
  },
  {
   "cell_type": "code",
   "execution_count": 214,
   "metadata": {},
   "outputs": [],
   "source": [
    "# get the predicted classes from the model\n",
    "Y_pred = model.predict_classes(X_test)"
   ]
  },
  {
   "cell_type": "code",
   "execution_count": 215,
   "metadata": {},
   "outputs": [
    {
     "name": "stdout",
     "output_type": "stream",
     "text": [
      "The model predicted it as: 7\n"
     ]
    },
    {
     "data": {
      "image/png": "[encoded data removed]",
      "text/plain": [
       "<Figure size 432x288 with 1 Axes>"
      ]
     },
     "metadata": {
      "needs_background": "light"
     },
     "output_type": "display_data"
    }
   ],
   "source": [
    "# check the predictions\n",
    "i = 0\n",
    "img = X_test[i, :]\n",
    "img = img.reshape(28, 28)\n",
    "plt.imshow(255-img, cmap='gray')\n",
    "\n",
    "print(\"The model predicted it as: %i\" %Y_pred[i])"
   ]
  },
  {
   "cell_type": "code",
   "execution_count": null,
   "metadata": {},
   "outputs": [],
   "source": []
  }
 ],
 "metadata": {
  "kernelspec": {
   "display_name": "Python 3",
   "language": "python",
   "name": "python3"
  },
  "language_info": {
   "codemirror_mode": {
    "name": "ipython",
    "version": 3
   },
   "file_extension": ".py",
   "mimetype": "text/x-python",
   "name": "python",
   "nbconvert_exporter": "python",
   "pygments_lexer": "ipython3",
   "version": "3.7.3"
  }
 },
 "nbformat": 4,
 "nbformat_minor": 4
}
